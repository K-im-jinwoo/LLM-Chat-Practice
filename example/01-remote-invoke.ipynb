{
 "cells": [
  {
   "cell_type": "code",
   "execution_count": 2,
   "metadata": {},
   "outputs": [
    {
     "data": {
      "text/plain": [
       "'```prompt\\n{{\\n# SNS 게시글 작성을 위한 프롬프트 템플릿\\n\\n사용자가 제공하는 정보를 기반으로 SNS 게시글을 작성합니다. 아래의 정보를 입력해주세요:\\n\\n- 게시글의 주제: {topic}\\n- 게시글의 목적: {purpose}\\n- 타겟 청중: {audience}\\n- 게시글에 포함되어야 할 특정 정보나 키워드: {keywords}\\n- 원하는 게시글의 길이 (예: 짧은 문장, 몇 문단 등): {length}\\n- 게시글의 톤과 스타일 (예: 공식적, 친근한, 유머러스 등): {tone}\\n- 추가적으로 포함하고 싶은 사항이나 참조할 수 있는 링크/자료: {references}\\n\\n이 정보를 바탕으로, 아래의 지침에 따라 게시글을 작성해 드리겠습니다:\\n\\n1. 주제와 목적에 맞는 내용을 중심으로 게시글을 구성합니다.\\n2. 지정된 타겟 청중을 염두에 두고 적절한 언어와 스타일을 사용합니다.\\n3. 제공된 키워드를 게시글에 자연스럽게 통합합니다.\\n4. 요청하신 길이와 형식에 맞춰 게시글을 작성합니다.\\n5. 지정된 톤과 스타일을 유지하며 글을 씁니다.\\n6. 참조 자료를 활용하여 정확하고 신뢰할 수 있는 정보를 제공합니다.\\n7. 필요한 경우, 게시글에 적절한 인용문이나 출처를 포함합니다.\\n\\n작성된 게시글은 다음과 같은 형식으로 제공됩니다:\\n\\n---\\n[게시글 시작]\\n\\n{게시글 내용}\\n\\n[게시글 끝]\\n---\\n}}\\n```'"
      ]
     },
     "execution_count": 2,
     "metadata": {},
     "output_type": "execute_result"
    }
   ],
   "source": [
    "from langserve import RemoteRunnable\n",
    "\n",
    "chain = RemoteRunnable(\"https://langserve-template-ee9acafba005.herokuapp.com/prompt/c/N4XyA\")\n",
    "chain.invoke({\"task\": \"SNS 게시글 작성을 요청하는 프롬프트를 생성하고 싶어\"})"
   ]
  },
  {
   "cell_type": "code",
   "execution_count": 4,
   "metadata": {},
   "outputs": [
    {
     "name": "stdout",
     "output_type": "stream",
     "text": [
      "Based on the instructions provided, here is a prompt template for creating a social media post (SNS 게시글) in Korean. The template includes placeholders for the user to fill in specific details, which are formatted as Python f-string placeholders.\n",
      "\n",
      "```prompt\n",
      "안녕하세요! SNS 게시글을 작성하려고 합니다. 아래의 정보를 기반으로 게시글을 만들어주세요.\n",
      "\n",
      "게시글 주제: {topic}\n",
      "게시글 내용: {content}\n",
      "게시글에 포함할 특별한 요소 (이미지, 링크 등): {special_elements}\n",
      "게시글의 목적 (홍보, 정보 공유, 이벤트 안내 등): {purpose}\n",
      "게시글의 톤과 매너 (친근한, 공식적인, 유머러스 등): {tone}\n",
      "게시글의 길이 (단문, 장문 등): {length}\n",
      "게시글에 포함되어야 할 특정 키워드: {keywords}\n",
      "게시글 게재를 원하는 SNS 플랫폼: {platform}\n",
      "게시글 게재 예정일: {posting_date}\n",
      "\n",
      "위 정보를 참고하여, 다음과 같은 형식으로 게시글을 작성해주세요.\n",
      "\n",
      "[게시글 시작]\n",
      "{content}\n",
      "[게시글 끝]\n",
      "\n",
      "게시글에 대한 추가적인 지침이나 요청 사항이 있으시면 알려주세요.\n",
      "```\n",
      "\n",
      "This template is designed to be clear and detailed, following the strategies and tactics outlined in the prompt engineering guide. It asks for specific information to minimize the need for the model to guess the user's intent, and it uses delimiters to clearly indicate the start and end of the social media post content. The user can fill in the placeholders with the relevant details to generate a tailored social media post."
     ]
    }
   ],
   "source": [
    "for token in chain.stream({\"task\": \"SNS 게시글 작성을 요청하는 프롬프트를 생성하고 싶어. 한글로 작성해줘.\"}):\n",
    "    print(token, end=\"\")"
   ]
  }
 ],
 "metadata": {
  "kernelspec": {
   "display_name": "py-test",
   "language": "python",
   "name": "python3"
  },
  "language_info": {
   "codemirror_mode": {
    "name": "ipython",
    "version": 3
   },
   "file_extension": ".py",
   "mimetype": "text/x-python",
   "name": "python",
   "nbconvert_exporter": "python",
   "pygments_lexer": "ipython3",
   "version": "3.10.13"
  }
 },
 "nbformat": 4,
 "nbformat_minor": 2
}
